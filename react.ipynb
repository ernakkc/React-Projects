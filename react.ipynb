{
 "cells": [
  {
   "cell_type": "markdown",
   "metadata": {},
   "source": [
    "# REACT"
   ]
  },
  {
   "cell_type": "markdown",
   "metadata": {},
   "source": [
    "React bir frontend alanında javascript kütüphanesidir. <br>\n",
    "ReactJS = HTML + JavaScript<br>\n",
    "Dosya uzantısı .jsx şeklindedir."
   ]
  },
  {
   "cell_type": "markdown",
   "metadata": {},
   "source": [
    "---------------"
   ]
  },
  {
   "cell_type": "markdown",
   "metadata": {},
   "source": [
    "## 3 ana bileşeni vardır:\n",
    "<ul>\n",
    "<li>1- Component:</li>\n",
    "<li>2- Props:</li>\n",
    "<li>3- State Management</li>\n",
    "</ul>\n"
   ]
  },
  {
   "cell_type": "markdown",
   "metadata": {},
   "source": [
    "#### 1. Component\n",
    "\n",
    "Bir yapı içerisinde tanımlanıyor. Dilendiği kadar çağırılıyor."
   ]
  },
  {
   "cell_type": "markdown",
   "metadata": {},
   "source": [
    "#### Probs\n",
    "\n",
    "Componentler arasında veri taşınımını sağlıyor."
   ]
  },
  {
   "cell_type": "markdown",
   "metadata": {},
   "source": [
    "#### State Management\n",
    "\n",
    "Veriyi tutup saklamaya yarıyor."
   ]
  },
  {
   "cell_type": "markdown",
   "metadata": {},
   "source": [
    "---------------"
   ]
  },
  {
   "cell_type": "markdown",
   "metadata": {},
   "source": [
    "Geliştirmek için bir IDLE ve Node.js gerekiyor. (NPM = Node Package Manager)"
   ]
  },
  {
   "cell_type": "markdown",
   "metadata": {},
   "source": [
    "#### React İçin Extensions\n",
    "<ul>\n",
    "    <li>Simple React Snippets</li>\n",
    "    <li>ES7 React/Redux/GraphQL/React-Native snippets</li>\n",
    "    <li>Auto Rename Tag</li>\n",
    "</ul>"
   ]
  },
  {
   "cell_type": "markdown",
   "metadata": {},
   "source": [
    "----------------------"
   ]
  },
  {
   "cell_type": "markdown",
   "metadata": {},
   "source": [
    "### React Projesi Oluşturma"
   ]
  },
  {
   "cell_type": "markdown",
   "metadata": {},
   "source": [
    "Önceden npx create-react-app kullanılıyordu. Artık VITE kullanılıyor."
   ]
  },
  {
   "cell_type": "markdown",
   "metadata": {},
   "source": [
    "Proje oluşturmak için: <br>\n",
    "npm create vite@latest"
   ]
  },
  {
   "cell_type": "markdown",
   "metadata": {},
   "source": [
    "----------------"
   ]
  },
  {
   "cell_type": "markdown",
   "metadata": {},
   "source": [
    "### Dizin Yapısı"
   ]
  },
  {
   "cell_type": "markdown",
   "metadata": {},
   "source": [
    "node_modules     : Projenin çalıştırılabilmesi için gerekli paketler bulunur. <br><br>\n",
    "src/assets       : Altında projenin içerisinde kullanılan görüntü vb. için bulunur. <br><br>\n",
    "eslint.config.js : Geliştirme aşamasında şu paketi kullanmadın vs gibi uyarılarda bulunmak için var. <br><br>\n",
    "package.json     : Bağlı olduğu kütüphaneler, çalıştırdığı scriptler, projenin adı, projenin tipi, paket sürümleri gibi şeylerin bulunduğu dosya. <br><br>\n",
    "index.html       : root elementi içeren bir div var sadece. <br><br>\n",
    "src/main.jsx     : index.html dosyasının içerisindeki root elementine App.jsx dosyasındaki içeriği entegre ediyor.<br><br>\n",
    "stc/App.jsx      : Bizim kodlarımızı yazdığımız kısım. <br><br>\n"
   ]
  },
  {
   "cell_type": "markdown",
   "metadata": {},
   "source": [
    "#### App.jsx"
   ]
  },
  {
   "cell_type": "markdown",
   "metadata": {},
   "source": [
    "``` REACT\n",
    "import { useState } from 'react'\n",
    "import './App.css'\n",
    "\n",
    "function App() {\n",
    "    \n",
    "    // JavaScript Kodları\n",
    "\n",
    "    return (\n",
    "        // HTML Kodları\n",
    "    )\n",
    "}\n",
    "\n",
    "export default App\n",
    "```"
   ]
  },
  {
   "cell_type": "markdown",
   "metadata": {},
   "source": [
    "Genel yapısıyla bu şekildedir."
   ]
  },
  {
   "cell_type": "markdown",
   "metadata": {},
   "source": [
    "---------------"
   ]
  },
  {
   "cell_type": "markdown",
   "metadata": {},
   "source": [
    "``` REACT \n",
    "<div style={{\n",
    "    border: '1px solid black\n",
    "}}>\n",
    "\n",
    "</div>\n",
    "```\n",
    "\n",
    "Style girilirken iki süslü parantez kullanılır."
   ]
  },
  {
   "cell_type": "markdown",
   "metadata": {},
   "source": [
    "---------------"
   ]
  },
  {
   "cell_type": "markdown",
   "metadata": {},
   "source": [
    "Component oluşturma kısayolu.<br><br>\n",
    "\n",
    "rfce"
   ]
  },
  {
   "cell_type": "markdown",
   "metadata": {},
   "source": [
    "-----------"
   ]
  },
  {
   "cell_type": "markdown",
   "metadata": {},
   "source": [
    "##### export default ComponentName - export ComponentName arasındaki fark"
   ]
  },
  {
   "cell_type": "markdown",
   "metadata": {},
   "source": [
    "default olarak dosyadan alınan ismi istenilen isimle çağırılmasını sağlıyor ve süslü parantez alınmasına gerek kalmıyor. <br><br>\n",
    "\n",
    "Örneğin: \n",
    "``` REACT \n",
    "import Eren from './Login.jsx'\n",
    "```"
   ]
  },
  {
   "cell_type": "markdown",
   "metadata": {},
   "source": [
    "----------"
   ]
  },
  {
   "cell_type": "markdown",
   "metadata": {},
   "source": [
    "### useState"
   ]
  },
  {
   "cell_type": "markdown",
   "metadata": {},
   "source": [
    "değişken tanımlamaya yarıyor.\n",
    "normalde jsde \n",
    "```JavaScript\n",
    "String firstName = \"Eren\"\n",
    "```\n",
    "<br><br>\n",
    "Reactta\n",
    "\n",
    "``` REACT\n",
    "const [firstName, setFirstName] = useState('Eren');\n",
    "```\n",
    "<br>\n",
    "Eren default değer<br>\n",
    "setFirstName de daha sonra değiştirmek için kullanılacak fonksiyon.\n",
    "\n",
    "```JavaScript\n",
    "setFirstName('Akkoç');\n",
    "```"
   ]
  },
  {
   "cell_type": "markdown",
   "metadata": {},
   "source": [
    "Bir statenin değerini set ile ayarladığınızda component tekrardan render edilir."
   ]
  },
  {
   "cell_type": "markdown",
   "metadata": {},
   "source": [
    "-------------"
   ]
  },
  {
   "cell_type": "markdown",
   "metadata": {},
   "source": [
    "#### useEffect"
   ]
  },
  {
   "cell_type": "markdown",
   "metadata": {},
   "source": [
    "bir sayfa yüklendiğinde veya bir state değiştiğinde gibi aksiyonlar alındığında çalışması için kullanılır.<br>\n",
    "Hooks'dur. "
   ]
  },
  {
   "cell_type": "markdown",
   "metadata": {},
   "source": [
    "##### KOD:"
   ]
  },
  {
   "cell_type": "markdown",
   "metadata": {},
   "source": [
    "```REACT\n",
    "import { useState } from 'react'\n",
    "import './App.css'\n",
    "import { useEffect } from 'react'\n",
    "\n",
    "function App() {\n",
    "  \n",
    "  const [firstName, setFirstName] = useState(\"\")\n",
    "  const [lastName, setLastName] = useState(\"\")\n",
    "\n",
    "  useEffect(() => {  \n",
    "    console.log(\"Her renderda çalışır\")\n",
    "  })\n",
    "\n",
    "  useEffect(() => {\n",
    "    console.log(\"İlk renderda çalışır\")\n",
    "  }, [])\n",
    "\n",
    "  useEffect(() => {\n",
    "    console.log(\"İlk renderda ve firstName değiştiğinde çalışır\")\n",
    "  }, [firstName])\n",
    "\n",
    "  useEffect(() => {\n",
    "    console.log(\"İlk renderda ve lastName değiştiğinde çalışır\")\n",
    "  }, [lastName])\n",
    "  \n",
    "\n",
    "  return (\n",
    "    <>\n",
    "      <div>\n",
    "        <button onClick={() => setFirstName(\"Eren\")}>Adı Değiştir</button>\n",
    "      </div>\n",
    "      <div>\n",
    "        <button onClick={()=> setLastName(\"Akkoç\")}>Soyadı Değiştir</button>\n",
    "      </div>\n",
    "    </>\n",
    "  )\n",
    "}\n",
    "\n",
    "export default App\n",
    "```"
   ]
  },
  {
   "cell_type": "markdown",
   "metadata": {},
   "source": [
    "--------------"
   ]
  },
  {
   "cell_type": "markdown",
   "metadata": {},
   "source": [
    "# TypeScript\n"
   ]
  },
  {
   "cell_type": "markdown",
   "metadata": {},
   "source": [
    "### Temel Tipler"
   ]
  },
  {
   "cell_type": "markdown",
   "metadata": {},
   "source": [
    "```Typescript \n",
    "let firstName:string = \"Eren\";\n",
    "let age:number = 20;\n",
    "let result:boolean = false;\n",
    "let x:undefined = undefined;\n",
    "let y:null = null;\n",
    "\n",
    "let a:any = \"10\"; // gelen tüm değerleri kabul et\n",
    "\n",
    "\n",
    "```"
   ]
  },
  {
   "cell_type": "markdown",
   "metadata": {},
   "source": [
    "### Union Types"
   ]
  },
  {
   "cell_type": "markdown",
   "metadata": {},
   "source": [
    "```TypeScript\n",
    "let age : String | number | boolean = True\n",
    "```\n",
    "Veya operatörü ile birden fazla tipe izin veriyor."
   ]
  },
  {
   "cell_type": "markdown",
   "metadata": {},
   "source": [
    "### Literal Types"
   ]
  },
  {
   "cell_type": "markdown",
   "metadata": {},
   "source": [
    "```TypeScript\n",
    "let statusResult : 'pendinf' |'approved' | 'rejected'\n",
    "```\n",
    "\n",
    "statusResult sadece bu değerleri alabilir şeklinde de belirleyebiliriz."
   ]
  },
  {
   "cell_type": "markdown",
   "metadata": {},
   "source": [
    "### Array"
   ]
  },
  {
   "cell_type": "markdown",
   "metadata": {},
   "source": [
    "```TypeScript\n",
    "let names : string[] = ['Eren', 'Ahmet', 'Mehmet'];\n",
    "let numbers: number[] = [1,2,3,4,5,6,7];\n",
    "let numbers2: Array<number> = [1,2,3];\n",
    "let mixedArray : (string | number)[] = ['Eren', 'Ahmet', 1, 2];\n",
    "```"
   ]
  },
  {
   "cell_type": "markdown",
   "metadata": {},
   "source": [
    "Yani\n",
    "``` TypeScript\n",
    "number[] = Array<number>\n",
    "```"
   ]
  },
  {
   "cell_type": "markdown",
   "metadata": {},
   "source": [
    "### Interface ve Type Kullanımı"
   ]
  },
  {
   "cell_type": "markdown",
   "metadata": {},
   "source": [
    "Kendi tipimizi oluşturmamızı sağlıyor.\n",
    "\n",
    "```TypeScript\n",
    "type User = {\n",
    "    name : string,\n",
    "    age : number\n",
    "}\n",
    "\n",
    "interface User {\n",
    "    name : string,\n",
    "    age : number\n",
    "}\n",
    "\n",
    "// optional type ?\n",
    "interface User {\n",
    "    name : string,\n",
    "    age? : number // atanmasını veya atanmamasını takmaz\n",
    "}\n",
    "\n",
    "// -----------------------\n",
    "\n",
    "const object1 : User = {\n",
    "    name: 'Eren',\n",
    "    age : 20\n",
    "}\n",
    "\n",
    "let array1 : User[] = [{name: 'Eren', age: 20}];\n",
    "```"
   ]
  },
  {
   "cell_type": "markdown",
   "metadata": {},
   "source": [
    "### Function"
   ]
  },
  {
   "cell_type": "markdown",
   "metadata": {},
   "source": [
    "```TypeScript\n",
    "//               parametre types      return type\n",
    "function topla(a:number , b:number) : number{\n",
    "    return a + b;\n",
    "}\n",
    "```"
   ]
  },
  {
   "cell_type": "markdown",
   "metadata": {},
   "source": [
    "-----------------"
   ]
  },
  {
   "cell_type": "markdown",
   "metadata": {},
   "source": []
  }
 ],
 "metadata": {
  "kernelspec": {
   "display_name": "base",
   "language": "python",
   "name": "python3"
  },
  "language_info": {
   "name": "python",
   "version": "3.12.4"
  }
 },
 "nbformat": 4,
 "nbformat_minor": 2
}
